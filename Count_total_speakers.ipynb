{
 "cells": [
  {
   "cell_type": "markdown",
   "metadata": {},
   "source": [
    "### Check:"
   ]
  },
  {
   "cell_type": "code",
   "execution_count": 62,
   "metadata": {},
   "outputs": [
    {
     "name": "stdout",
     "output_type": "stream",
     "text": [
      "উপস্থিত লুঠতরাজ-খুন-ধর্ষণের পক্ষে/‘পক্ষে’ ‘কাবুলিওয়ালা’ ।\n"
     ]
    }
   ],
   "source": [
    "s = \"\t\tউপস্থিত লুঠতরাজ-খুন-ধর্ষণের পক্ষে/‘পক্ষে’ ‘কাবুলিওয়ালা’ ।    \"\n",
    "s = s.strip()\n",
    "print(s)"
   ]
  },
  {
   "cell_type": "code",
   "execution_count": 54,
   "metadata": {},
   "outputs": [
    {
     "name": "stdout",
     "output_type": "stream",
     "text": [
      "এশিয়ার\n"
     ]
    }
   ],
   "source": [
    "# mystring = \"this string shouldn't have any apostrophe - \\' or \\\" at all\"\n",
    "mystring = \"এশিয়া'র\"\n",
    "mystring = mystring.replace(\"'\", \"\")\n",
    "mystring = mystring.replace(\"\\\"\", \"\")\n",
    "print(mystring)"
   ]
  },
  {
   "cell_type": "code",
   "execution_count": 70,
   "metadata": {},
   "outputs": [
    {
     "name": "stdout",
     "output_type": "stream",
     "text": [
      "বাংলাদেশে এইচআইভি এইডস রোগীর সংখ্যা\n"
     ]
    }
   ],
   "source": [
    "s = \"বাংলাদেশে এইচআইভি/এইডস রোগীর সংখ্যা\"\n",
    "s = s.replace(\"/\", \" \")\n",
    "print(s)"
   ]
  },
  {
   "cell_type": "code",
   "execution_count": 69,
   "metadata": {},
   "outputs": [
    {
     "name": "stdout",
     "output_type": "stream",
     "text": [
      "লুঠতরাজ-খুন-ধর্ষণের পক্ষে/পক্ষে কাবুলিওয়ালা যখন শিখেহো  ।\n",
      "val1, val2:  লুঠতরাজ-খুন-ধর্ষণের  ,  লুঠতরাজখুনধর্ষণের\n",
      "a2:  ['লুঠতরাজ', 'খুন', 'ধর্ষণের']\n",
      "val1, val2:  পক্ষেপক্ষে  ,  পক্ষে/পক্ষে\n",
      "a1:  ['পক্ষে', 'পক্ষে']\n",
      "val1, val2:  কাবুলিওয়ালা  ,  কাবুলিওয়ালা\n",
      "val:  কাবুলিওয়ালা\n",
      "val1, val2:  যখন  ,  যখন\n",
      "val:  যখন\n",
      "val1, val2:  শিখেহো  ,  শিখেহো\n",
      "val:  শিখেহো\n"
     ]
    }
   ],
   "source": [
    "import re\n",
    "text = \"লুঠতরাজ-খুন-ধর্ষণের পক্ষে/‘পক্ষে’ ‘কাবুলিওয়ালা’ “যখন “শিখেহো””” “ ।\"\n",
    "# text = re.sub('[a-zA-Z0-9‘’।]*', '', text)\n",
    "text = re.sub('[\\t?;-:_%!,\"a-zA-Z0-9‘’“”|]*', '', text)\n",
    "print(text)\n",
    "# text = re.sub('[-]*', ' ', text)\n",
    "a = text.split(\" \")## all words\n",
    "# print(a)\n",
    "for val in a:\n",
    "    if len(val)>1:\n",
    "        val1 = re.sub('[/]*', '', val)\n",
    "        val2 = re.sub('[-]*', '', val)\n",
    "        print(\"val1, val2: \", val1, \" , \",val2)\n",
    "        if len(val1) != len(val):\n",
    "            a1 = val.split(\"/\")\n",
    "            print(\"a1: \",a1)\n",
    "        elif len(val2) != len(val):\n",
    "            a2 = val.split(\"-\")\n",
    "            print(\"a2: \",a2)\n",
    "        else:\n",
    "            print(\"val: \",val)"
   ]
  },
  {
   "cell_type": "code",
   "execution_count": 67,
   "metadata": {},
   "outputs": [
    {
     "name": "stdout",
     "output_type": "stream",
     "text": [
      "['1a.tsv', '1b.tsv', '1c.tsv', '1d.tsv', '1e.tsv', '1f.tsv', '20.tsv', '21.tsv', '22.tsv', '23.tsv', '24.tsv', '25.tsv', '26.tsv', '27.tsv', '28.tsv', '29.tsv', '2a.tsv', '2b.tsv', '2c.tsv', '2d.tsv', '2e.tsv', '2f.tsv', '30.tsv', '31.tsv']\n"
     ]
    }
   ],
   "source": [
    "##All tsv file names:\n",
    "from os import listdir\n",
    "from os.path import isdir, isfile, join\n",
    "mypath='all_tsvs/'\n",
    "onlyfiles = [f for f in listdir(mypath) if isfile(join(mypath, f))]\n",
    "onlyfiles = sorted(onlyfiles)\n",
    "# print(onlyfiles)\n",
    "print(onlyfiles[26:50]) # just 20 ti file print \n",
    "all_folders = onlyfiles"
   ]
  },
  {
   "cell_type": "code",
   "execution_count": 72,
   "metadata": {},
   "outputs": [],
   "source": [
    "import csv\n",
    "import re\n",
    "\n",
    "## TSV file and folders names:\n",
    "# all_folders = ['00.tsv', '01.tsv', '02.tsv', '03.tsv', '04.tsv', '05.tsv', '06.tsv', '07.tsv', '08.tsv', '09.tsv', '0a.tsv', '0b.tsv', '0c.tsv', '0d.tsv', '0e.tsv', '0f.tsv', '10.tsv', '11.tsv', '12.tsv', '13.tsv', '14.tsv', '15.tsv', '16.tsv', '17.tsv', '18.tsv', '19.tsv']\n",
    "\n",
    "# all_folders = ['b4.tsv']\n",
    "# '27.tsv', '28.tsv', '29.tsv']\n",
    "# '2a.tsv', '2b.tsv', '2c.tsv', '2d.tsv', '2e.tsv', '2f.tsv', '30.tsv', '31.tsv']\n",
    "               \n",
    "unique_speakers = set()\n",
    "unique_words = set()\n",
    "unique_sentences = set()\n",
    "\n",
    "file = open(\"check_sentences.txt\", \"w\", encoding=\"utf8\")\n",
    "\n",
    "cnt = 0\n",
    "for folder_name in all_folders:\n",
    "#     print(\"****** File name: \",folder_name)\n",
    "    with open('all_tsvs/' + folder_name, encoding=\"utf8\") as csv_file:\n",
    "        csv_reader = csv.reader(csv_file, delimiter='\\t')\n",
    "        for row in csv_reader:\n",
    "            cnt += 1\n",
    "            text = row[2]\n",
    "            spk = row[1]\n",
    "            \n",
    "            unique_sentences.add(text)\n",
    "            unique_speakers.add(spk)\n",
    "            \n",
    "            ##using regex:\n",
    "            text = re.sub('[-\\t?;:_%!,\"a-zA-Z0-9‘’“”।|]*', '', text)\n",
    "            text = text.strip()\n",
    "            text = text.replace(\"'\", \"\")\n",
    "            text = text.replace(\"\\\"\", \"\")\n",
    "            text = text.replace(\"/\", \" \")\n",
    "            text = text.replace(\"\\\"\", \"\")\n",
    "            file.write(text+\"\\n\")\n",
    "file.close()\n",
    "#             a = text.split(\" \")## all words\n",
    "#             for val in a:\n",
    "#                 if len(val)>1:\n",
    "#                     val1 = re.sub('[/]*', '', val)\n",
    "#                     val2 = re.sub('[-]*', '', val)\n",
    "#                     if len(val1) != len(val):\n",
    "#                         a1 = val.split(\"/\")\n",
    "#                         for v in a1:\n",
    "#                             v = v.replace(\"'\", \"\")\n",
    "#                             v = v.replace(\"\\\"\", \"\")\n",
    "#                             unique_words.add(v)\n",
    "#                     elif len(val2) != len(val):\n",
    "#                         a2 = val.split(\"-\")\n",
    "#                         for v in a2:\n",
    "#                             v = v.replace(\"'\", \"\")\n",
    "#                             v = v.replace(\"\\\"\", \"\")\n",
    "#                             unique_words.add(v)\n",
    "#                     else:\n",
    "#                         val = val.replace(\"'\", \"\")\n",
    "#                         val = val.replace(\"\\\"\", \"\")\n",
    "#                         unique_words.add(val)\n",
    "            \n",
    "# print(\"\\nUnique speakers: \",len(unique_speakers), \"\\nUnique words: \",len(unique_words), \"\\nUnique sentences: \",len(unique_sentences))\n",
    "# print(\"\\nTotal utterances: \",cnt)\n",
    "\n",
    "# file = open(\"all_unique_words.txt\", \"w\", encoding=\"utf8\")\n",
    "# for word in unique_words:\n",
    "#     word = word.replace(\"'\", \"\")\n",
    "#     word = word.replace(\"\\\"\", \"\")\n",
    "#     file.write(word+\"\\n\")\n",
    "# file.close()\n",
    "\n",
    "##d7a68\n",
    "##3c8"
   ]
  }
 ],
 "metadata": {
  "kernelspec": {
   "display_name": "Python 3",
   "language": "python",
   "name": "python3"
  },
  "language_info": {
   "codemirror_mode": {
    "name": "ipython",
    "version": 3
   },
   "file_extension": ".py",
   "mimetype": "text/x-python",
   "name": "python",
   "nbconvert_exporter": "python",
   "pygments_lexer": "ipython3",
   "version": "3.7.0"
  }
 },
 "nbformat": 4,
 "nbformat_minor": 2
}

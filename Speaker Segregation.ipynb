{
 "cells": [
  {
   "cell_type": "code",
   "execution_count": 34,
   "metadata": {},
   "outputs": [],
   "source": [
    "file = open(\"copy.txt\", \"r\", encoding=\"utf8\") ### Automatically 'copy.txt' file create hoy...\n",
    "prev = file.read()\n",
    "# prev = \"\"\n",
    "file = open(\"copy.txt\", \"w\", encoding=\"utf8\") ### Automatically 'copy.txt' file create hoy...\n",
    "s = \"and my elder sister is Mst. Rickta Moni\"\n",
    "if prev != \"\":\n",
    "    file.write(prev+\"\\n\"+s) \n",
    "else:\n",
    "    file.write(s) \n",
    "file.close() "
   ]
  },
  {
   "cell_type": "code",
   "execution_count": 3,
   "metadata": {},
   "outputs": [],
   "source": [
    "import csv\n",
    "speakers = set()\n",
    "with open('01.tsv', encoding=\"utf8\") as csv_file:\n",
    "    csv_reader = csv.reader(csv_file, delimiter='\\t')\n",
    "    for row in csv_reader:\n",
    "        text = row[2]\n",
    "        spk = row[1]\n",
    "        speakers.add(spk)\n",
    "\n",
    "spk_freq = {}\n",
    "\n",
    "file = open(\"01_speakers.txt\", \"w\", encoding=\"utf8\")\n",
    "spks = \"\"\n",
    "for spk in speakers:\n",
    "    spks += spk + \"\\n\"\n",
    "    spk_freq[spk] = 0\n",
    "\n",
    "file.write(spks)\n",
    "file.close()\n",
    "    \n",
    "# with open('01.tsv', encoding=\"utf8\") as csv_file:\n",
    "#     csv_reader = csv.reader(csv_file, delimiter='\\t')\n",
    "#     for row in csv_reader:\n",
    "#         text = row[2]\n",
    "#         spk = row[1]\n",
    "#         spk_freq[spk] += 1\n",
    "\n",
    "# for key,val in spk_freq.items():\n",
    "#     print(\"key,val: \",key, \" \",val)"
   ]
  }
 ],
 "metadata": {
  "kernelspec": {
   "display_name": "Python 3",
   "language": "python",
   "name": "python3"
  },
  "language_info": {
   "codemirror_mode": {
    "name": "ipython",
    "version": 3
   },
   "file_extension": ".py",
   "mimetype": "text/x-python",
   "name": "python",
   "nbconvert_exporter": "python",
   "pygments_lexer": "ipython3",
   "version": "3.7.0"
  }
 },
 "nbformat": 4,
 "nbformat_minor": 2
}

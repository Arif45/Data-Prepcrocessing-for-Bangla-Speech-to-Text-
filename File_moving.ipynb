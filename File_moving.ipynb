{
 "cells": [
  {
   "cell_type": "markdown",
   "metadata": {},
   "source": [
    "# Main code"
   ]
  },
  {
   "cell_type": "markdown",
   "metadata": {},
   "source": [
    "### Get sub-folder-names"
   ]
  },
  {
   "cell_type": "code",
   "execution_count": 3,
   "metadata": {},
   "outputs": [
    {
     "name": "stdout",
     "output_type": "stream",
     "text": [
      "['00.tsv', '01.tsv', '02.tsv', '03.tsv', '04.tsv', '05.tsv', '06.tsv', '07.tsv', '08.tsv', '09.tsv']\n"
     ]
    }
   ],
   "source": [
    "##All tsv file names:\n",
    "from os import listdir\n",
    "from os.path import isdir, isfile, join\n",
    "mypath='all_tsvs/'\n",
    "onlyfiles = [f for f in listdir(mypath) if isfile(join(mypath, f))]\n",
    "onlyfiles = sorted(onlyfiles)\n",
    "# print(onlyfiles)\n",
    "print(onlyfiles[0:10]) # just 20 ti file print \n",
    "all_folders = onlyfiles"
   ]
  },
  {
   "cell_type": "code",
   "execution_count": 6,
   "metadata": {},
   "outputs": [
    {
     "name": "stdout",
     "output_type": "stream",
     "text": [
      "20082\n",
      "ignore n(rows):  7\n"
     ]
    }
   ],
   "source": [
    "import csv\n",
    "import re\n",
    "import os\n",
    "from os import path\n",
    "import shutil\n",
    "\n",
    "def making_folder(folder_name):\n",
    "    try:  \n",
    "        os.mkdir(folder_name)\n",
    "    except OSError:  \n",
    "        print (\"Creation of the directory %s failed\" % path)\n",
    "    else:  \n",
    "        print (\"Successfully created the directory %s \" % path)\n",
    "\n",
    "## TSV file and folders names:\n",
    "all_folders = ['00', '0a', '0b', '0c', '0d', '0e', '0f', '01', '02', '03', '04', '05', '06', '07', '08', '09', '1a', '1b', '1c', '1d', '1e', '1f', '10', '11', '12', '13', '14', '15', '16', '17', '18', '19']\n",
    "\n",
    "# all_folders = ['00', '0a']\n",
    "\n",
    "words = set()\n",
    "cnt = 0 ## ignore counting\n",
    "\n",
    "for folder_name in all_folders:\n",
    "    \n",
    "    with open('data/' + folder_name + '.tsv', encoding=\"utf8\") as csv_file:\n",
    "        csv_reader = csv.reader(csv_file, delimiter='\\t')\n",
    "        for row in csv_reader:\n",
    "            text = row[2]\n",
    "            spk = row[1]\n",
    "            #regex check:(1)\n",
    "            l = len(text)\n",
    "            s = re.sub('[0-9]*', '', text) \n",
    "            l1 = len(s)\n",
    "            if l != l1: ## mane ei row ignore korlam\n",
    "                cnt += 1\n",
    "                continue\n",
    "            text = re.sub('[\\t\\n,\\)(!@$%^&*`~.?(\\\\\\)]*', '', text)\n",
    "            #track unique words:(2)\n",
    "            a = text.split(\" \")## all words\n",
    "            for val in a:\n",
    "                words.add(val)\n",
    "            #wav file copy:(3)\n",
    "            dst = 'data/Train/'+spk\n",
    "            src = 'data/'+folder_name+'/' # wav file location\n",
    "            f = row[0]+'.wav'\n",
    "            making_folder(dst)\n",
    "            p = path.join(src, f)\n",
    "            dp = dst + '/' + f\n",
    "            if os.path.exists(p) == True and os.path.exists(dp) == False:\n",
    "                shutil.copy(p, dst) # copy wav files in the specific spk files\n",
    "            \n",
    "print(len(words))\n",
    "print(\"ignore n(rows): \",cnt)"
   ]
  }
 ],
 "metadata": {
  "kernelspec": {
   "display_name": "Python 3",
   "language": "python",
   "name": "python3"
  },
  "language_info": {
   "codemirror_mode": {
    "name": "ipython",
    "version": 3
   },
   "file_extension": ".py",
   "mimetype": "text/x-python",
   "name": "python",
   "nbconvert_exporter": "python",
   "pygments_lexer": "ipython3",
   "version": "3.7.0"
  }
 },
 "nbformat": 4,
 "nbformat_minor": 2
}
